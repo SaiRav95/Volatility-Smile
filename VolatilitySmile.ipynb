{
 "cells": [
  {
   "cell_type": "code",
   "execution_count": 2,
   "metadata": {},
   "outputs": [],
   "source": [
    "import pandas as pd\n",
    "df = pd.read_csv(\"OptionData.csv\")"
   ]
  },
  {
   "cell_type": "code",
   "execution_count": 3,
   "metadata": {},
   "outputs": [
    {
     "data": {
      "text/html": [
       "<div>\n",
       "<style scoped>\n",
       "    .dataframe tbody tr th:only-of-type {\n",
       "        vertical-align: middle;\n",
       "    }\n",
       "\n",
       "    .dataframe tbody tr th {\n",
       "        vertical-align: top;\n",
       "    }\n",
       "\n",
       "    .dataframe thead th {\n",
       "        text-align: right;\n",
       "    }\n",
       "</style>\n",
       "<table border=\"1\" class=\"dataframe\">\n",
       "  <thead>\n",
       "    <tr style=\"text-align: right;\">\n",
       "      <th></th>\n",
       "      <th>Symbol</th>\n",
       "      <th>Date</th>\n",
       "      <th>Expiry</th>\n",
       "      <th>Option Type</th>\n",
       "      <th>Strike Price</th>\n",
       "      <th>Open</th>\n",
       "      <th>High</th>\n",
       "      <th>Low</th>\n",
       "      <th>Close</th>\n",
       "      <th>LTP</th>\n",
       "      <th>Settle Price</th>\n",
       "      <th>No. of contracts</th>\n",
       "      <th>Turnover in Lacs</th>\n",
       "      <th>Premium Turnover in Lacs</th>\n",
       "      <th>Open Int</th>\n",
       "      <th>Change in OI</th>\n",
       "      <th>Underlying Value</th>\n",
       "    </tr>\n",
       "  </thead>\n",
       "  <tbody>\n",
       "    <tr>\n",
       "      <th>0</th>\n",
       "      <td>SBIN</td>\n",
       "      <td>3-Apr-18</td>\n",
       "      <td>26-Apr-18</td>\n",
       "      <td>CE</td>\n",
       "      <td>240</td>\n",
       "      <td>15.05</td>\n",
       "      <td>17.50</td>\n",
       "      <td>14.30</td>\n",
       "      <td>15.75</td>\n",
       "      <td>15.95</td>\n",
       "      <td>15.75</td>\n",
       "      <td>169</td>\n",
       "      <td>1298.32</td>\n",
       "      <td>81.52</td>\n",
       "      <td>648000</td>\n",
       "      <td>-66000</td>\n",
       "      <td>250.5</td>\n",
       "    </tr>\n",
       "    <tr>\n",
       "      <th>1</th>\n",
       "      <td>SBIN</td>\n",
       "      <td>3-Apr-18</td>\n",
       "      <td>26-Apr-18</td>\n",
       "      <td>CE</td>\n",
       "      <td>245</td>\n",
       "      <td>12.20</td>\n",
       "      <td>13.60</td>\n",
       "      <td>11.25</td>\n",
       "      <td>12.25</td>\n",
       "      <td>12.55</td>\n",
       "      <td>12.25</td>\n",
       "      <td>56</td>\n",
       "      <td>431.99</td>\n",
       "      <td>20.39</td>\n",
       "      <td>102000</td>\n",
       "      <td>-24000</td>\n",
       "      <td>250.5</td>\n",
       "    </tr>\n",
       "    <tr>\n",
       "      <th>2</th>\n",
       "      <td>SBIN</td>\n",
       "      <td>3-Apr-18</td>\n",
       "      <td>26-Apr-18</td>\n",
       "      <td>CE</td>\n",
       "      <td>250</td>\n",
       "      <td>8.75</td>\n",
       "      <td>10.95</td>\n",
       "      <td>8.50</td>\n",
       "      <td>9.55</td>\n",
       "      <td>9.60</td>\n",
       "      <td>9.55</td>\n",
       "      <td>2341</td>\n",
       "      <td>18234.34</td>\n",
       "      <td>676.84</td>\n",
       "      <td>1851000</td>\n",
       "      <td>-72000</td>\n",
       "      <td>250.5</td>\n",
       "    </tr>\n",
       "    <tr>\n",
       "      <th>3</th>\n",
       "      <td>SBIN</td>\n",
       "      <td>3-Apr-18</td>\n",
       "      <td>26-Apr-18</td>\n",
       "      <td>CE</td>\n",
       "      <td>255</td>\n",
       "      <td>6.40</td>\n",
       "      <td>8.40</td>\n",
       "      <td>6.30</td>\n",
       "      <td>7.15</td>\n",
       "      <td>7.35</td>\n",
       "      <td>7.15</td>\n",
       "      <td>1029</td>\n",
       "      <td>8099.52</td>\n",
       "      <td>227.67</td>\n",
       "      <td>684000</td>\n",
       "      <td>354000</td>\n",
       "      <td>250.5</td>\n",
       "    </tr>\n",
       "    <tr>\n",
       "      <th>4</th>\n",
       "      <td>SBIN</td>\n",
       "      <td>3-Apr-18</td>\n",
       "      <td>26-Apr-18</td>\n",
       "      <td>CE</td>\n",
       "      <td>260</td>\n",
       "      <td>4.95</td>\n",
       "      <td>6.35</td>\n",
       "      <td>4.70</td>\n",
       "      <td>5.30</td>\n",
       "      <td>5.35</td>\n",
       "      <td>5.30</td>\n",
       "      <td>2404</td>\n",
       "      <td>19147.89</td>\n",
       "      <td>396.69</td>\n",
       "      <td>2730000</td>\n",
       "      <td>267000</td>\n",
       "      <td>250.5</td>\n",
       "    </tr>\n",
       "    <tr>\n",
       "      <th>5</th>\n",
       "      <td>SBIN</td>\n",
       "      <td>3-Apr-18</td>\n",
       "      <td>26-Apr-18</td>\n",
       "      <td>CE</td>\n",
       "      <td>265</td>\n",
       "      <td>3.95</td>\n",
       "      <td>4.75</td>\n",
       "      <td>3.45</td>\n",
       "      <td>3.85</td>\n",
       "      <td>3.90</td>\n",
       "      <td>3.85</td>\n",
       "      <td>345</td>\n",
       "      <td>2784.02</td>\n",
       "      <td>41.27</td>\n",
       "      <td>393000</td>\n",
       "      <td>216000</td>\n",
       "      <td>250.5</td>\n",
       "    </tr>\n",
       "    <tr>\n",
       "      <th>6</th>\n",
       "      <td>SBIN</td>\n",
       "      <td>3-Apr-18</td>\n",
       "      <td>26-Apr-18</td>\n",
       "      <td>CE</td>\n",
       "      <td>270</td>\n",
       "      <td>2.65</td>\n",
       "      <td>3.45</td>\n",
       "      <td>2.50</td>\n",
       "      <td>2.85</td>\n",
       "      <td>2.85</td>\n",
       "      <td>2.85</td>\n",
       "      <td>1637</td>\n",
       "      <td>13405.34</td>\n",
       "      <td>145.64</td>\n",
       "      <td>2724000</td>\n",
       "      <td>447000</td>\n",
       "      <td>250.5</td>\n",
       "    </tr>\n",
       "    <tr>\n",
       "      <th>7</th>\n",
       "      <td>SBIN</td>\n",
       "      <td>3-Apr-18</td>\n",
       "      <td>26-Apr-18</td>\n",
       "      <td>CE</td>\n",
       "      <td>275</td>\n",
       "      <td>2.30</td>\n",
       "      <td>2.55</td>\n",
       "      <td>1.90</td>\n",
       "      <td>2.05</td>\n",
       "      <td>2.20</td>\n",
       "      <td>2.05</td>\n",
       "      <td>164</td>\n",
       "      <td>1363.56</td>\n",
       "      <td>10.56</td>\n",
       "      <td>186000</td>\n",
       "      <td>72000</td>\n",
       "      <td>250.5</td>\n",
       "    </tr>\n",
       "    <tr>\n",
       "      <th>8</th>\n",
       "      <td>SBIN</td>\n",
       "      <td>3-Apr-18</td>\n",
       "      <td>26-Apr-18</td>\n",
       "      <td>CE</td>\n",
       "      <td>280</td>\n",
       "      <td>1.35</td>\n",
       "      <td>1.95</td>\n",
       "      <td>1.20</td>\n",
       "      <td>1.55</td>\n",
       "      <td>1.55</td>\n",
       "      <td>1.55</td>\n",
       "      <td>1123</td>\n",
       "      <td>9487.74</td>\n",
       "      <td>54.54</td>\n",
       "      <td>2052000</td>\n",
       "      <td>201000</td>\n",
       "      <td>250.5</td>\n",
       "    </tr>\n",
       "    <tr>\n",
       "      <th>9</th>\n",
       "      <td>SBIN</td>\n",
       "      <td>3-Apr-18</td>\n",
       "      <td>26-Apr-18</td>\n",
       "      <td>CE</td>\n",
       "      <td>285</td>\n",
       "      <td>1.30</td>\n",
       "      <td>1.50</td>\n",
       "      <td>1.05</td>\n",
       "      <td>1.20</td>\n",
       "      <td>1.15</td>\n",
       "      <td>1.20</td>\n",
       "      <td>58</td>\n",
       "      <td>498.08</td>\n",
       "      <td>2.18</td>\n",
       "      <td>207000</td>\n",
       "      <td>18000</td>\n",
       "      <td>250.5</td>\n",
       "    </tr>\n",
       "    <tr>\n",
       "      <th>10</th>\n",
       "      <td>SBIN</td>\n",
       "      <td>3-Apr-18</td>\n",
       "      <td>26-Apr-18</td>\n",
       "      <td>CE</td>\n",
       "      <td>290</td>\n",
       "      <td>1.00</td>\n",
       "      <td>1.15</td>\n",
       "      <td>0.80</td>\n",
       "      <td>0.90</td>\n",
       "      <td>0.85</td>\n",
       "      <td>0.90</td>\n",
       "      <td>607</td>\n",
       "      <td>5298.08</td>\n",
       "      <td>17.18</td>\n",
       "      <td>1053000</td>\n",
       "      <td>168000</td>\n",
       "      <td>250.5</td>\n",
       "    </tr>\n",
       "  </tbody>\n",
       "</table>\n",
       "</div>"
      ],
      "text/plain": [
       "   Symbol      Date     Expiry Option Type  Strike Price   Open   High    Low  \\\n",
       "0    SBIN  3-Apr-18  26-Apr-18          CE           240  15.05  17.50  14.30   \n",
       "1    SBIN  3-Apr-18  26-Apr-18          CE           245  12.20  13.60  11.25   \n",
       "2    SBIN  3-Apr-18  26-Apr-18          CE           250   8.75  10.95   8.50   \n",
       "3    SBIN  3-Apr-18  26-Apr-18          CE           255   6.40   8.40   6.30   \n",
       "4    SBIN  3-Apr-18  26-Apr-18          CE           260   4.95   6.35   4.70   \n",
       "5    SBIN  3-Apr-18  26-Apr-18          CE           265   3.95   4.75   3.45   \n",
       "6    SBIN  3-Apr-18  26-Apr-18          CE           270   2.65   3.45   2.50   \n",
       "7    SBIN  3-Apr-18  26-Apr-18          CE           275   2.30   2.55   1.90   \n",
       "8    SBIN  3-Apr-18  26-Apr-18          CE           280   1.35   1.95   1.20   \n",
       "9    SBIN  3-Apr-18  26-Apr-18          CE           285   1.30   1.50   1.05   \n",
       "10   SBIN  3-Apr-18  26-Apr-18          CE           290   1.00   1.15   0.80   \n",
       "\n",
       "    Close    LTP  Settle Price  No. of contracts  Turnover in Lacs  \\\n",
       "0   15.75  15.95         15.75               169           1298.32   \n",
       "1   12.25  12.55         12.25                56            431.99   \n",
       "2    9.55   9.60          9.55              2341          18234.34   \n",
       "3    7.15   7.35          7.15              1029           8099.52   \n",
       "4    5.30   5.35          5.30              2404          19147.89   \n",
       "5    3.85   3.90          3.85               345           2784.02   \n",
       "6    2.85   2.85          2.85              1637          13405.34   \n",
       "7    2.05   2.20          2.05               164           1363.56   \n",
       "8    1.55   1.55          1.55              1123           9487.74   \n",
       "9    1.20   1.15          1.20                58            498.08   \n",
       "10   0.90   0.85          0.90               607           5298.08   \n",
       "\n",
       "    Premium Turnover in Lacs  Open Int  Change in OI  Underlying Value  \n",
       "0                      81.52    648000        -66000             250.5  \n",
       "1                      20.39    102000        -24000             250.5  \n",
       "2                     676.84   1851000        -72000             250.5  \n",
       "3                     227.67    684000        354000             250.5  \n",
       "4                     396.69   2730000        267000             250.5  \n",
       "5                      41.27    393000        216000             250.5  \n",
       "6                     145.64   2724000        447000             250.5  \n",
       "7                      10.56    186000         72000             250.5  \n",
       "8                      54.54   2052000        201000             250.5  \n",
       "9                       2.18    207000         18000             250.5  \n",
       "10                     17.18   1053000        168000             250.5  "
      ]
     },
     "execution_count": 3,
     "metadata": {},
     "output_type": "execute_result"
    }
   ],
   "source": [
    "df"
   ]
  },
  {
   "cell_type": "code",
   "execution_count": 139,
   "metadata": {},
   "outputs": [
    {
     "name": "stdout",
     "output_type": "stream",
     "text": [
      "[39.97802734375, 38.482666015625, 37.109375, 37.261962890625, 36.56005859375, 36.62109375, 36.92626953125, 38.0859375, 38.26904296875, 39.0625, 39.794921875]\n"
     ]
    }
   ],
   "source": [
    "from mibian import BS\n",
    "listVol = []\n",
    "a = BS([250.5, 240, 0.065, 23], callPrice = 15.95)\n",
    "listVol.append(a.impliedVolatility)\n",
    "a = BS([250.5, 245, 0.065, 23], callPrice = 12.55)\n",
    "listVol.append(a.impliedVolatility)\n",
    "a = BS([250.5, 250, 0.065, 23], callPrice = 9.60)\n",
    "listVol.append(a.impliedVolatility)\n",
    "a = BS([250.5, 255, 0.065, 23], callPrice = 7.35)\n",
    "listVol.append(a.impliedVolatility)\n",
    "a = BS([250.5, 260, 0.065, 23], callPrice = 5.35)\n",
    "listVol.append(a.impliedVolatility)\n",
    "a = BS([250.5, 265, 0.065, 23], callPrice = 3.90)\n",
    "listVol.append(a.impliedVolatility)\n",
    "a = BS([250.5, 270, 0.065, 23], callPrice = 2.85)\n",
    "listVol.append(a.impliedVolatility)\n",
    "a = BS([250.5, 275, 0.065, 23], callPrice = 2.20)\n",
    "listVol.append(a.impliedVolatility)\n",
    "a = BS([250.5, 280, 0.065, 23], callPrice = 1.55)\n",
    "listVol.append(a.impliedVolatility)\n",
    "a = BS([250.5, 285, 0.065, 23], callPrice = 1.15)\n",
    "listVol.append(a.impliedVolatility)\n",
    "a = BS([250.5, 290, 0.065, 23], callPrice = 0.85)\n",
    "listVol.append(a.impliedVolatility)\n",
    "print(listVol)"
   ]
  },
  {
   "cell_type": "code",
   "execution_count": 19,
   "metadata": {},
   "outputs": [
    {
     "data": {
      "text/plain": [
       "[<matplotlib.lines.Line2D at 0x22525856240>]"
      ]
     },
     "execution_count": 19,
     "metadata": {},
     "output_type": "execute_result"
    },
    {
     "data": {
      "image/png": "[encoded data removed]",
      "text/plain": [
       "<Figure size 432x288 with 1 Axes>"
      ]
     },
     "metadata": {
      "needs_background": "light"
     },
     "output_type": "display_data"
    }
   ],
   "source": [
    "import matplotlib.pyplot as plt\n",
    "listStrikes = [240, 245, 250, 255, 260, 265, 270, 275, 280, 285, 290]\n",
    "plt.plot(listStrikes, listVol)"
   ]
  },
  {
   "cell_type": "code",
   "execution_count": 36,
   "metadata": {},
   "outputs": [],
   "source": [
    "### Calculation of Implied Volatility using Newton - Raphson Method ###\n",
    "\n",
    "### I will be calculating for Call Option but there is no difference in calculating for Put Option ###\n",
    "\n",
    "import math\n",
    "from scipy.stats import norm\n",
    "\n",
    "\n",
    "\n",
    "def d1(S, K, sigma, r, T, q):\n",
    "    \n",
    "    d1 = (math.log(S/K) + (r - q + 0.5*(sigma)**2)*T)/(sigma*(math.sqrt(T)))\n",
    "    \n",
    "    return d1\n",
    "\n",
    "def d2(S, K, sigma, r, T, q):\n",
    "    \n",
    "    d2 = d1(S, K, sigma, r, T, q) - sigma*(math.sqrt(T))\n",
    "    \n",
    "    return d2\n",
    "\n",
    "\n",
    "def CallOption(S, K, sigma, r, T, q):\n",
    "    \n",
    "    ## S is the Asset Price ##\n",
    "    ## K is the Strike Price ##\n",
    "    ## sigma is the Volatility ##\n",
    "    ## r is the Interest Rate (Continuously Compounded) ##\n",
    "    ## T is the Time to Maturity as a percentage of 365 days ##\n",
    "    ## q is the Dividend Rate ##\n",
    "    \n",
    "    a = d1(S, K, sigma, r, T, q)\n",
    "    b = d2(S, K, sigma, r, T, q)\n",
    "    \n",
    "    Call = S*(math.exp(-(q*T)))*(norm.cdf(a)) - K*(math.exp(-(r*T)))*norm.cdf(b)\n",
    "    \n",
    "    return Call\n",
    "\n",
    "def fsigma(S, K, sigma, r, T, q, OptionValue):\n",
    "    c = CallOption(S, K, sigma, r, T, q)\n",
    "    \n",
    "    f = c - OptionValue\n",
    "    \n",
    "    return f\n",
    "\n",
    "def Nddash(x):\n",
    "    \n",
    "    a = (1/math.sqrt(2*math.pi))*math.exp(-(x**2)/2)\n",
    "    \n",
    "    return a\n",
    "\n",
    "\n",
    "def fdersigma(S, K, sigma, r, T, q, OptionValue):\n",
    "    \n",
    "    d1dash = (-(math.log(S/K))/((sigma**2)*math.sqrt(T))) - (((r - q)*(math.sqrt(T)))/(sigma**2)) + ((0.5)*math.sqrt(T))\n",
    "    \n",
    "    d2dash = d1dash - math.sqrt(T)\n",
    "    \n",
    "    fder = S*(Nddash(d1(S, K, sigma, r, T, q)))*d1dash - K*(math.exp(-r*T))*(Nddash(d2(S, K, sigma, r, T, q)))*d2dash\n",
    "    \n",
    "    return fder\n",
    "    \n",
    "\n",
    "def ImpliedVolatility(S, K, sigma, r, T, q, OptionValue):\n",
    "    \n",
    "    \n",
    "    dsigma = 0.001\n",
    "    Iter = 100\n",
    "    Tol = 0.001\n",
    "    i = 1\n",
    "    \n",
    "    ## sigma is the initial guess of the Implied Volatility ##\n",
    "    \n",
    "    while i <= Iter:\n",
    "        \n",
    "        a = sigma - (fsigma(S, K, sigma, r, T, q, OptionValue)/fdersigma(S, K, sigma, r, T, q, OptionValue))\n",
    "        \n",
    "        if abs(a - sigma) < Tol:\n",
    "            \n",
    "            return a      \n",
    "        \n",
    "        else:\n",
    "              \n",
    "            sigma = a\n",
    "            i = i + 1\n",
    "            \n",
    "    return None"
   ]
  },
  {
   "cell_type": "code",
   "execution_count": 37,
   "metadata": {},
   "outputs": [],
   "source": [
    "Listsig = []\n",
    "Listpercha = []\n",
    "ListObtainedValues = []\n",
    "a = ImpliedVolatility(250.5, 240, 0.35, 0.065, 23/365, 0, 15.95)\n",
    "Listsig.append(a)\n",
    "c = CallOption(250.5, 240, a, 0.065, 23/365, 0)\n",
    "ListObtainedValues.append(c)\n",
    "b = ((c - 15.95)/15.95)*100\n",
    "Listpercha.append(b)\n",
    "\n",
    "a = ImpliedVolatility(250.5, 245, 0.35, 0.065, 23/365, 0, 12.55)\n",
    "Listsig.append(a)\n",
    "c = CallOption(250.5, 245, a, 0.065, 23/365, 0)\n",
    "ListObtainedValues.append(c)\n",
    "b = ((c - 12.55)/12.55)*100\n",
    "Listpercha.append(b)\n",
    "\n",
    "a = ImpliedVolatility(250.5, 250, 0.35, 0.065, 23/365, 0, 9.60)\n",
    "Listsig.append(a)\n",
    "c = CallOption(250.5, 250, a, 0.065, 23/365, 0)\n",
    "ListObtainedValues.append(c)\n",
    "b = ((c - 9.60)/9.60)*100\n",
    "Listpercha.append(b)\n",
    "\n",
    "a = ImpliedVolatility(250.5, 255, 0.35, 0.065, 23/365, 0, 7.35)\n",
    "Listsig.append(a)\n",
    "c = CallOption(250.5, 255, a, 0.065, 23/365, 0)\n",
    "ListObtainedValues.append(c)\n",
    "b = ((c - 7.35)/7.35)*100\n",
    "Listpercha.append(b)\n",
    "\n",
    "a = ImpliedVolatility(250.5, 260, 0.35, 0.065, 23/365, 0, 5.35)\n",
    "Listsig.append(a)\n",
    "c = CallOption(250.5, 260, a, 0.065, 23/365, 0)\n",
    "ListObtainedValues.append(c)\n",
    "b = ((c - 5.35)/5.35)*100\n",
    "Listpercha.append(b)\n",
    "\n",
    "a = ImpliedVolatility(250.5, 265, 0.35, 0.065, 23/365, 0, 3.90)\n",
    "Listsig.append(a)\n",
    "c = CallOption(250.5, 265, a, 0.065, 23/365, 0)\n",
    "ListObtainedValues.append(c)\n",
    "b = ((c - 3.90)/3.90)*100\n",
    "Listpercha.append(b)\n",
    "\n",
    "a = ImpliedVolatility(250.5, 270, 0.35, 0.065, 23/365, 0, 2.85)\n",
    "Listsig.append(a)\n",
    "c = CallOption(250.5, 270, a, 0.065, 23/365, 0)\n",
    "ListObtainedValues.append(c)\n",
    "b = ((c - 2.85)/2.85)*100\n",
    "Listpercha.append(b)\n",
    "\n",
    "a = ImpliedVolatility(250.5, 275, 0.35, 0.065, 23/365, 0, 2.20)\n",
    "Listsig.append(a)\n",
    "c = CallOption(250.5, 275, a, 0.065, 23/365, 0)\n",
    "ListObtainedValues.append(c)\n",
    "b = ((c - 2.20)/2.20)*100\n",
    "Listpercha.append(b)\n",
    "\n",
    "a = ImpliedVolatility(250.5, 280, 0.35, 0.065, 23/365, 0, 1.55)\n",
    "Listsig.append(a)\n",
    "c = CallOption(250.5, 280, a, 0.065, 23/365, 0)\n",
    "ListObtainedValues.append(c)\n",
    "b = ((c - 1.55)/1.55)*100\n",
    "Listpercha.append(b)\n",
    "\n",
    "a = ImpliedVolatility(250.5, 285, 0.35, 0.065, 23/365, 0, 1.15)\n",
    "Listsig.append(a)\n",
    "c = CallOption(250.5, 285, a, 0.065, 23/365, 0)\n",
    "ListObtainedValues.append(c)\n",
    "b = ((c - 1.15)/1.15)*100\n",
    "Listpercha.append(b)\n",
    "\n",
    "a = ImpliedVolatility(250.5, 290, 0.35, 0.065, 23/365, 0, 0.85)\n",
    "Listsig.append(a)\n",
    "c = CallOption(250.5, 290, a, 0.065, 23/365, 0)\n",
    "ListObtainedValues.append(c)\n",
    "b = ((c - 0.85)/0.85)*100\n",
    "Listpercha.append(b)\n"
   ]
  },
  {
   "cell_type": "code",
   "execution_count": 53,
   "metadata": {},
   "outputs": [
    {
     "name": "stdout",
     "output_type": "stream",
     "text": [
      "Implied Volatilities are:\n",
      "[0.3705572804911422, 0.3605956704407894, 0.35270166290758276, 0.35535890986929153, 0.3507128809780558, 0.35247193026201223, 0.3575340693385475, 0.3710732214028003, 0.3729691483279904, 0.3814640908058709, 0.3893565439088678]\n",
      "------\n",
      "Black Scholes formula for the Implied Volatility are:\n",
      "[15.950000192924307, 12.550000000503985, 9.600000000000023, 7.35000000000062, 5.3500024114001405, 3.9000000000981174, 2.8500000441850943, 2.2000080167329514, 1.5500000001012353, 1.150000007141081, 0.85000018227149]\n",
      "------\n",
      "Percentage change in Option Price Implied VS Market are:\n",
      "[1.2095567877140838e-06, 4.0158120299678104e-09, 2.405483220021173e-13, 8.434673972118198e-12, 4.5072899829913175e-05, 2.5158336952175047e-09, 1.550354184213407e-06, 0.0003643969523297647, 6.531305962015165e-09, 6.209635704185925e-07, 2.1443704707338312e-05]\n"
     ]
    }
   ],
   "source": [
    "print(\"Implied Volatilities are:\")\n",
    "print(Listsig)\n",
    "print(\"------\")\n",
    "print(\"Black Scholes formula for the Implied Volatility are:\")\n",
    "print(ListObtainedValues)\n",
    "print(\"------\")\n",
    "print(\"Percentage change in Option Price Implied VS Market are:\")\n",
    "print(Listpercha)"
   ]
  },
  {
   "cell_type": "code",
   "execution_count": 39,
   "metadata": {},
   "outputs": [
    {
     "data": {
      "text/plain": [
       "[<matplotlib.lines.Line2D at 0x22526dd7f28>]"
      ]
     },
     "execution_count": 39,
     "metadata": {},
     "output_type": "execute_result"
    },
    {
     "data": {
      "image/png": "[encoded data removed]",
      "text/plain": [
       "<Figure size 432x288 with 1 Axes>"
      ]
     },
     "metadata": {
      "needs_background": "light"
     },
     "output_type": "display_data"
    }
   ],
   "source": [
    "import matplotlib.pyplot as plt\n",
    "listStrikes = [240, 245, 250, 255, 260, 265, 270, 275, 280, 285, 290]\n",
    "plt.plot(listStrikes, Listsig)"
   ]
  },
  {
   "cell_type": "code",
   "execution_count": 40,
   "metadata": {},
   "outputs": [
    {
     "data": {
      "text/plain": [
       "[<matplotlib.lines.Line2D at 0x22526e452b0>]"
      ]
     },
     "execution_count": 40,
     "metadata": {},
     "output_type": "execute_result"
    },
    {
     "data": {
      "image/png": "[encoded data removed]",
      "text/plain": [
       "<Figure size 432x288 with 1 Axes>"
      ]
     },
     "metadata": {
      "needs_background": "light"
     },
     "output_type": "display_data"
    }
   ],
   "source": [
    "## Dropping the last two values for the smile to appear better ##\n",
    "list1 = [240, 245, 250, 255, 260, 265, 270, 275, 280]\n",
    "list2 = Listsig[:9]\n",
    "plt.plot(list1, list2)"
   ]
  },
  {
   "cell_type": "code",
   "execution_count": 130,
   "metadata": {},
   "outputs": [],
   "source": [
    "### Bisection Method to find Implied Volatility ###\n",
    "\n",
    "def ImpliedVolatility1(S, K, r, T, q, OptionValue, a, b):\n",
    "    \n",
    "    Iter = 100\n",
    "    Tol = 0.0001\n",
    "    i = 1\n",
    "    k = (a + b)/2\n",
    "    ## sigma is the initial guess of the Implied Volatility ##\n",
    "    \n",
    "    while i <= Iter:\n",
    "        if fsigma(S, K, k, r, T, q, OptionValue) == 0 or abs(a - b) < Tol or i == Iter:\n",
    "            \n",
    "            return k\n",
    "        \n",
    "        i = i + 1\n",
    "        if fsigma(S, K, k, r, T, q, OptionValue) > 0:\n",
    "            \n",
    "            b = k\n",
    "            \n",
    "        elif fsigma(S, K, k, r, T, q, OptionValue) < 0:\n",
    "            a = k \n",
    "    ## Don't forget to take the midpoint again ##\n",
    "        k = (a + b)/2  \n",
    "    return k        \n",
    "       "
   ]
  },
  {
   "cell_type": "code",
   "execution_count": 120,
   "metadata": {},
   "outputs": [],
   "source": [
    "Listsig1 = []\n",
    "Listpercha1 = []\n",
    "ListObtainedValues1 = []\n",
    "a = ImpliedVolatility1(250.5, 240, 0.065, 23/365, 0, 15.95, 0.33, 0.40)\n",
    "Listsig1.append(a)\n",
    "c = CallOption(250.5, 240, a, 0.065, 23/365, 0)\n",
    "ListObtainedValues1.append(c)\n",
    "b = ((c - 15.95)/15.95)*100\n",
    "Listpercha1.append(b)\n",
    "\n",
    "a = ImpliedVolatility1(250.5, 245, 0.065, 23/365, 0, 12.55, 0.33, 0.40)\n",
    "Listsig1.append(a)\n",
    "c = CallOption(250.5, 245, a, 0.065, 23/365, 0)\n",
    "ListObtainedValues1.append(c)\n",
    "b = ((c - 12.55)/12.55)*100\n",
    "Listpercha1.append(b)\n",
    "\n",
    "a = ImpliedVolatility1(250.5, 250, 0.065, 23/365, 0, 9.60, 0.33, 0.40)\n",
    "Listsig1.append(a)\n",
    "c = CallOption(250.5, 250, a, 0.065, 23/365, 0)\n",
    "ListObtainedValues1.append(c)\n",
    "b = ((c - 9.60)/9.60)*100\n",
    "Listpercha1.append(b)\n",
    "\n",
    "a = ImpliedVolatility1(250.5, 255, 0.065, 23/365, 0, 7.35, 0.33, 0.40)\n",
    "Listsig1.append(a)\n",
    "c = CallOption(250.5, 255, a, 0.065, 23/365, 0)\n",
    "ListObtainedValues1.append(c)\n",
    "b = ((c - 7.35)/7.35)*100\n",
    "Listpercha1.append(b)\n",
    "\n",
    "a = ImpliedVolatility1(250.5, 260, 0.065, 23/365, 0, 5.35, 0.33, 0.40)\n",
    "Listsig1.append(a)\n",
    "c = CallOption(250.5, 260, a, 0.065, 23/365, 0)\n",
    "ListObtainedValues1.append(c)\n",
    "b = ((c - 5.35)/5.35)*100\n",
    "Listpercha1.append(b)\n",
    "\n",
    "a = ImpliedVolatility1(250.5, 265, 0.065, 23/365, 0, 3.90, 0.33, 0.40)\n",
    "Listsig1.append(a)\n",
    "c = CallOption(250.5, 265, a, 0.065, 23/365, 0)\n",
    "ListObtainedValues1.append(c)\n",
    "b = ((c - 3.90)/3.90)*100\n",
    "Listpercha1.append(b)\n",
    "\n",
    "a = ImpliedVolatility1(250.5, 270, 0.065, 23/365, 0, 2.85, 0.33, 0.40)\n",
    "Listsig1.append(a)\n",
    "c = CallOption(250.5, 270, a, 0.065, 23/365, 0)\n",
    "ListObtainedValues1.append(c)\n",
    "b = ((c - 2.85)/2.85)*100\n",
    "Listpercha1.append(b)\n",
    "\n",
    "a = ImpliedVolatility1(250.5, 275, 0.065, 23/365, 0, 2.20, 0.33, 0.40)\n",
    "Listsig1.append(a)\n",
    "c = CallOption(250.5, 275, a, 0.065, 23/365, 0)\n",
    "ListObtainedValues1.append(c)\n",
    "b = ((c - 2.20)/2.20)*100\n",
    "Listpercha1.append(b)\n",
    "\n",
    "a = ImpliedVolatility1(250.5, 280, 0.065, 23/365, 0, 1.55, 0.33, 0.40)\n",
    "Listsig1.append(a)\n",
    "c = CallOption(250.5, 280, a, 0.065, 23/365, 0)\n",
    "ListObtainedValues1.append(c)\n",
    "b = ((c - 1.55)/1.55)*100\n",
    "Listpercha1.append(b)\n",
    "\n",
    "a = ImpliedVolatility1(250.5, 285, 0.065, 23/365, 0, 1.15, 0.33, 0.40)\n",
    "Listsig1.append(a)\n",
    "c = CallOption(250.5, 285, a, 0.065, 23/365, 0)\n",
    "ListObtainedValues1.append(c)\n",
    "b = ((c - 1.15)/1.15)*100\n",
    "Listpercha1.append(b)\n",
    "\n",
    "a = ImpliedVolatility1(250.5, 290, 0.065, 23/365, 0, 0.85, 0.33, 0.40)\n",
    "Listsig1.append(a)\n",
    "c = CallOption(250.5, 290, a, 0.065, 23/365, 0)\n",
    "ListObtainedValues1.append(c)\n",
    "b = ((c - 0.85)/0.85)*100\n",
    "Listpercha1.append(b)\n"
   ]
  },
  {
   "cell_type": "code",
   "execution_count": 121,
   "metadata": {},
   "outputs": [
    {
     "name": "stdout",
     "output_type": "stream",
     "text": [
      "Implied Volatilities are:\n",
      "[0.37057128906250003, 0.3605908203125, 0.35272949218750005, 0.3553271484375, 0.3506787109375, 0.3524560546875001, 0.3575146484374999, 0.37104980468750004, 0.37296386718749996, 0.3814404296875, 0.3893701171874999]\n",
      "------\n",
      "Black Scholes formula for the Implied Volatility are:\n",
      "[15.950302142537595, 12.54988499812842, 9.600693680953484, 7.34920795219638, 5.349191253511677, 3.8996567919482743, 2.8496308435410427, 2.199620177995712, 1.5499275398202954, 1.1497305798087432, 0.8501266738064679]\n",
      "------\n",
      "Percentage change in Option Price Implied VS Market are:\n",
      "[0.0018943105805362312, -0.0009163495743521878, 0.007225843265457055, -0.010776160593461377, -0.015116756791081374, -0.008800206454502756, -0.012952858209031902, -0.01726463655856007, -0.004674850303524933, -0.023427842717978514, 0.014902800760931064]\n"
     ]
    }
   ],
   "source": [
    "print(\"Implied Volatilities are:\")\n",
    "print(Listsig1)\n",
    "print(\"------\")\n",
    "print(\"Black Scholes formula for the Implied Volatility are:\")\n",
    "print(ListObtainedValues1)\n",
    "print(\"------\")\n",
    "print(\"Percentage change in Option Price Implied VS Market are:\")\n",
    "print(Listpercha1)"
   ]
  },
  {
   "cell_type": "code",
   "execution_count": 122,
   "metadata": {},
   "outputs": [
    {
     "data": {
      "text/plain": [
       "[<matplotlib.lines.Line2D at 0x225271d5d30>]"
      ]
     },
     "execution_count": 122,
     "metadata": {},
     "output_type": "execute_result"
    },
    {
     "data": {
      "image/png": "[encoded data removed]",
      "text/plain": [
       "<Figure size 432x288 with 1 Axes>"
      ]
     },
     "metadata": {
      "needs_background": "light"
     },
     "output_type": "display_data"
    }
   ],
   "source": [
    "listStrikes = [240, 245, 250, 255, 260, 265, 270, 275, 280, 285, 290]\n",
    "plt.plot(listStrikes, Listsig1)"
   ]
  },
  {
   "cell_type": "code",
   "execution_count": 125,
   "metadata": {},
   "outputs": [
    {
     "data": {
      "image/png": "[encoded data removed]",
      "text/plain": [
       "<Figure size 432x288 with 1 Axes>"
      ]
     },
     "metadata": {
      "needs_background": "light"
     },
     "output_type": "display_data"
    }
   ],
   "source": [
    "## Implied Volatility Smiles of both Newton - Raphson and Bisection method ##\n",
    "## Even though the graphs seem like if you see the percentage error Newton - Raphson is a better approximation ##\n",
    "plt.plot(listStrikes, Listsig)\n",
    "plt.plot(listStrikes, Listsig1)\n",
    "plt.show()"
   ]
  },
  {
   "cell_type": "code",
   "execution_count": 129,
   "metadata": {},
   "outputs": [
    {
     "data": {
      "image/png": "[encoded data removed]",
      "text/plain": [
       "<Figure size 432x288 with 1 Axes>"
      ]
     },
     "metadata": {
      "needs_background": "light"
     },
     "output_type": "display_data"
    }
   ],
   "source": [
    "## Implied Volatility Smiles of both Newton - Raphson and Mibian package pricer ##\n",
    "listtemp = [100*x for x in Listsig]\n",
    "plt.plot(listStrikes, listtemp)\n",
    "plt.plot(listStrikes, listVol)\n",
    "plt.show()"
   ]
  },
  {
   "cell_type": "code",
   "execution_count": 136,
   "metadata": {},
   "outputs": [
    {
     "name": "stdout",
     "output_type": "stream",
     "text": [
      "[16.585724455853267, 13.12603492289972, 10.058476602488568, 7.780652408140739, 5.704427970377665, 4.198955017148052, 3.0751853450822253, 2.3640161595560443, 1.6856260797843206, 1.2564271976867083, 0.9319328336289132]\n"
     ]
    }
   ],
   "source": [
    "## The shapes seem similar but which one has the lowest error ##\n",
    "## As you can see the values are different than the ones in the data provided above ##\n",
    "## So, I am thinking that Newton - Raphson is one of the best approximation ##\n",
    "listk = []\n",
    "listabc = [i/100 for i in listVol]\n",
    "for i in range(0, len(listVol)):\n",
    "    a = CallOption(250.5, 240 + 5*i, listabc[i], 0.065, 23/365, 0)\n",
    "    listk.append(a)\n",
    "print(listk)    "
   ]
  }
 ],
 "metadata": {
  "kernelspec": {
   "display_name": "Python 3",
   "language": "python",
   "name": "python3"
  },
  "language_info": {
   "codemirror_mode": {
    "name": "ipython",
    "version": 3
   },
   "file_extension": ".py",
   "mimetype": "text/x-python",
   "name": "python",
   "nbconvert_exporter": "python",
   "pygments_lexer": "ipython3",
   "version": "3.7.0"
  }
 },
 "nbformat": 4,
 "nbformat_minor": 2
}
